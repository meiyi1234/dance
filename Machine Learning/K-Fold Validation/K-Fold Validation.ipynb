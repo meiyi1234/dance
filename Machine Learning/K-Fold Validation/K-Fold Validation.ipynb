{
 "cells": [
  {
   "cell_type": "code",
   "execution_count": 7,
   "metadata": {},
   "outputs": [
    {
     "name": "stdout",
     "output_type": "stream",
     "text": [
      "SupportVectorMachine K-Fold Validation\n",
      "[0.95454545 0.96590909 0.95454545 0.95454545 0.94252874 0.91954023\n",
      " 1.         0.98837209 0.96511628 0.97674419 0.94117647 0.96470588\n",
      " 0.95294118 0.95294118 0.95294118 0.96470588 0.95294118 0.97619048\n",
      " 0.93975904 0.98795181]\n",
      "RandomTree K-Fold Validation\n",
      "[0.94318182 0.95454545 0.93181818 0.94318182 0.89655172 0.93103448\n",
      " 0.98850575 0.97674419 0.96511628 0.95348837 0.91764706 0.94117647\n",
      " 0.96470588 0.92941176 0.92941176 0.97647059 0.96470588 0.95238095\n",
      " 0.93975904 0.98795181]\n",
      "DecisionTree K-Fold Validation\n",
      "[0.92045455 0.92045455 0.93181818 0.92045455 0.93103448 0.94252874\n",
      " 0.96551724 0.95348837 0.97674419 0.95348837 0.94117647 0.96470588\n",
      " 0.94117647 0.89411765 0.92941176 0.94117647 0.91764706 0.92857143\n",
      " 0.90361446 0.98795181]\n"
     ]
    }
   ],
   "source": [
    "# applying k-fold cross validation\n",
    "from sklearn.model_selection import KFold\n",
    "from sklearn.model_selection import cross_val_score\n",
    "\n",
    "# data analysis\n",
    "import pandas as pd\n",
    "\n",
    "# plot tool\n",
    "import matplotlib.pyplot as plt\n",
    "\n",
    "# machine learning tools\n",
    "from sklearn.model_selection import train_test_split\n",
    "\n",
    "# model\n",
    "from sklearn.svm import SVC\n",
    "from sklearn.ensemble import RandomForestClassifier\n",
    "from sklearn.tree import DecisionTreeClassifier\n",
    "\n",
    "def KfoldValidation():\n",
    "    raw_df = pd.read_csv('C:/Users/WEARE1/Documents/extracted_dataset .csv')\n",
    "\n",
    "    X = raw_df.drop(['activity'], axis=1)\n",
    "    y = raw_df['activity'].copy()\n",
    "    X_train, X_test, y_train, y_test = train_test_split(X, y, test_size=0.2, random_state=0)\n",
    "\n",
    "    # Model 1: Support Vector Machines\n",
    "    svc = SVC()\n",
    "    svc.fit(X_train, y_train)\n",
    "\n",
    "    # Model 2: Random Forestry\n",
    "    random_forest = RandomForestClassifier(n_estimators=30)\n",
    "    random_forest.fit(X_train, y_train)\n",
    "\n",
    "    # Model 3: Decision Tree\n",
    "    decision_tree = DecisionTreeClassifier()\n",
    "    decision_tree.fit(X_train, y_train)\n",
    "\n",
    "\n",
    "    accurancies_svm = cross_val_score(estimator=svc,X=X_train, y=y_train,cv=20)\n",
    "    print(\"SupportVectorMachine K-Fold Validation\")\n",
    "    print(accurancies_svm)\n",
    "    \n",
    "    accurancies_rt = cross_val_score(estimator=random_forest,X=X_train, y=y_train,cv=20)\n",
    "    print(\"RandomTree K-Fold Validation\")\n",
    "    print(accurancies_rt)\n",
    "    \n",
    "    accurancies_dt = cross_val_score(estimator=decision_tree,X=X_train, y=y_train,cv=20)\n",
    "    print(\"DecisionTree K-Fold Validation\")\n",
    "    print(accurancies_dt)\n",
    "\n",
    "\n",
    "KfoldValidation()"
   ]
  }
 ],
 "metadata": {
  "kernelspec": {
   "display_name": "Python 3",
   "language": "python",
   "name": "python3"
  },
  "language_info": {
   "codemirror_mode": {
    "name": "ipython",
    "version": 3
   },
   "file_extension": ".py",
   "mimetype": "text/x-python",
   "name": "python",
   "nbconvert_exporter": "python",
   "pygments_lexer": "ipython3",
   "version": "3.6.6"
  }
 },
 "nbformat": 4,
 "nbformat_minor": 2
}
